{
 "cells": [
  {
   "cell_type": "markdown",
   "metadata": {},
   "source": [
    "# Example - Filling in missing data & dealing with timestamps"
   ]
  },
  {
   "cell_type": "code",
   "execution_count": 1,
   "metadata": {},
   "outputs": [],
   "source": [
    "import geopandas as gpd\n",
    "\n",
    "from geocube.api.core import make_geocube\n",
    "\n",
    "%matplotlib inline"
   ]
  },
  {
   "cell_type": "markdown",
   "metadata": {},
   "source": [
    "## Load in geopackage data and add CRS"
   ]
  },
  {
   "cell_type": "code",
   "execution_count": 2,
   "metadata": {},
   "outputs": [],
   "source": [
    "gdf = gpd.read_file(\n",
    "    \"../../test/test_data/input/time_vector_data.geojson\",\n",
    "    crs=\"epsg:4326\",\n",
    ")"
   ]
  },
  {
   "cell_type": "code",
   "execution_count": 3,
   "metadata": {},
   "outputs": [
    {
     "data": {
      "text/html": [
       "<div>\n",
       "<style scoped>\n",
       "    .dataframe tbody tr th:only-of-type {\n",
       "        vertical-align: middle;\n",
       "    }\n",
       "\n",
       "    .dataframe tbody tr th {\n",
       "        vertical-align: top;\n",
       "    }\n",
       "\n",
       "    .dataframe thead th {\n",
       "        text-align: right;\n",
       "    }\n",
       "</style>\n",
       "<table border=\"1\" class=\"dataframe\">\n",
       "  <thead>\n",
       "    <tr style=\"text-align: right;\">\n",
       "      <th></th>\n",
       "      <th>test_attr</th>\n",
       "      <th>test_str_attr</th>\n",
       "      <th>test_time_attr</th>\n",
       "      <th>geometry</th>\n",
       "    </tr>\n",
       "  </thead>\n",
       "  <tbody>\n",
       "    <tr>\n",
       "      <td>0</td>\n",
       "      <td>1.3</td>\n",
       "      <td>dcf86619</td>\n",
       "      <td>5/21/2016 10:09:21 AM -05:00</td>\n",
       "      <td>POINT (-47.26681 44.21932)</td>\n",
       "    </tr>\n",
       "    <tr>\n",
       "      <td>1</td>\n",
       "      <td>1.3</td>\n",
       "      <td>dcf86619</td>\n",
       "      <td>5/21/2016 10:09:21 AM -05:00</td>\n",
       "      <td>POINT (-47.26680 44.21932)</td>\n",
       "    </tr>\n",
       "    <tr>\n",
       "      <td>2</td>\n",
       "      <td>1.9</td>\n",
       "      <td>dcf86619</td>\n",
       "      <td>5/21/2016 10:09:21 AM -05:00</td>\n",
       "      <td>POINT (-47.26681 44.21932)</td>\n",
       "    </tr>\n",
       "    <tr>\n",
       "      <td>3</td>\n",
       "      <td>1.3</td>\n",
       "      <td>dcf86619</td>\n",
       "      <td>5/21/2016 10:09:21 AM -05:00</td>\n",
       "      <td>POINT (-47.26680 44.21932)</td>\n",
       "    </tr>\n",
       "    <tr>\n",
       "      <td>4</td>\n",
       "      <td>1.3</td>\n",
       "      <td>dcf86619</td>\n",
       "      <td>5/21/2016 10:09:21 AM -05:00</td>\n",
       "      <td>POINT (-47.26679 44.21932)</td>\n",
       "    </tr>\n",
       "  </tbody>\n",
       "</table>\n",
       "</div>"
      ],
      "text/plain": [
       "   test_attr test_str_attr                test_time_attr  \\\n",
       "0        1.3      dcf86619  5/21/2016 10:09:21 AM -05:00   \n",
       "1        1.3      dcf86619  5/21/2016 10:09:21 AM -05:00   \n",
       "2        1.9      dcf86619  5/21/2016 10:09:21 AM -05:00   \n",
       "3        1.3      dcf86619  5/21/2016 10:09:21 AM -05:00   \n",
       "4        1.3      dcf86619  5/21/2016 10:09:21 AM -05:00   \n",
       "\n",
       "                     geometry  \n",
       "0  POINT (-47.26681 44.21932)  \n",
       "1  POINT (-47.26680 44.21932)  \n",
       "2  POINT (-47.26681 44.21932)  \n",
       "3  POINT (-47.26680 44.21932)  \n",
       "4  POINT (-47.26679 44.21932)  "
      ]
     },
     "execution_count": 3,
     "metadata": {},
     "output_type": "execute_result"
    }
   ],
   "source": [
    "gdf.head()"
   ]
  },
  {
   "cell_type": "code",
   "execution_count": 4,
   "metadata": {},
   "outputs": [
    {
     "data": {
      "text/plain": [
       "<matplotlib.axes._subplots.AxesSubplot at 0x7f2f1cd18240>"
      ]
     },
     "execution_count": 4,
     "metadata": {},
     "output_type": "execute_result"
    },
    {
     "data": {
      "image/png": "[encoded data removed]",
      "text/plain": [
       "<Figure size 432x288 with 1 Axes>"
      ]
     },
     "metadata": {
      "needs_background": "light"
     },
     "output_type": "display_data"
    }
   ],
   "source": [
    "gdf.head().plot(column='test_attr')"
   ]
  },
  {
   "cell_type": "markdown",
   "metadata": {},
   "source": [
    "## Convert to raster with GeoCube\n",
    "\n",
    "See docs for [make_geocube](../geocube.rst#make-geocube)"
   ]
  },
  {
   "cell_type": "markdown",
   "metadata": {},
   "source": [
    "### Load into grid basic"
   ]
  },
  {
   "cell_type": "code",
   "execution_count": 5,
   "metadata": {},
   "outputs": [
    {
     "name": "stderr",
     "output_type": "stream",
     "text": [
      "/home/snowal/miniconda/envs/geocube/lib/python3.6/site-packages/xarray/core/variable.py:151: FutureWarning: Converting timezone-aware DatetimeArray to timezone-naive ndarray with 'datetime64[ns]' dtype. In the future, this will return an ndarray with 'object' dtype where each element is a 'pandas.Timestamp' with the correct 'tz'.\n",
      "\tTo accept the future behavior, pass 'dtype=object'.\n",
      "\tTo keep the old behavior, pass 'dtype=\"datetime64[ns]\"'.\n",
      "  return np.asarray(pd.Series(values.ravel())).reshape(values.shape)\n"
     ]
    }
   ],
   "source": [
    "geo_grid = make_geocube(\n",
    "    vector_data=gdf,\n",
    "    measurements=['test_attr', \"test_time_attr\"],\n",
    "    datetime_measurements=[\"test_time_attr\"],\n",
    "    resolution=(-0.1, 0.00001),\n",
    "    group_by=\"test_time_attr\",\n",
    ")"
   ]
  },
  {
   "cell_type": "code",
   "execution_count": 6,
   "metadata": {},
   "outputs": [
    {
     "data": {
      "text/plain": [
       "<xarray.Dataset>\n",
       "Dimensions:         (test_time_attr: 2, x: 12, y: 11)\n",
       "Coordinates:\n",
       "  * y               (y) float64 45.25 45.15 45.05 44.95 ... 44.45 44.35 44.25\n",
       "  * x               (x) float64 -47.27 -47.27 -47.27 ... -47.27 -47.27 -47.27\n",
       "  * test_time_attr  (test_time_attr) datetime64[ns] 2016-05-21T15:09:21 2016-05-22T15:09:22\n",
       "    spatial_ref     int64 0\n",
       "Data variables:\n",
       "    test_attr       (test_time_attr, y, x) float64 nan nan nan ... nan nan nan\n",
       "Attributes:\n",
       "    grid_mapping:  spatial_ref"
      ]
     },
     "execution_count": 6,
     "metadata": {},
     "output_type": "execute_result"
    }
   ],
   "source": [
    "geo_grid"
   ]
  },
  {
   "cell_type": "code",
   "execution_count": 7,
   "metadata": {},
   "outputs": [
    {
     "data": {
      "text/plain": [
       "<matplotlib.collections.QuadMesh at 0x7f2f19274128>"
      ]
     },
     "execution_count": 7,
     "metadata": {},
     "output_type": "execute_result"
    },
    {
     "data": {
      "image/png": "[encoded data removed]",
      "text/plain": [
       "<Figure size 432x288 with 2 Axes>"
      ]
     },
     "metadata": {
      "needs_background": "light"
     },
     "output_type": "display_data"
    }
   ],
   "source": [
    "# mask nodata and plot\n",
    "grid_time_1 = geo_grid.isel(test_time_attr=0)\n",
    "grid_time_1.test_attr.where(grid_time_1.test_attr!=grid_time_1.test_attr.rio.nodata).plot()"
   ]
  },
  {
   "cell_type": "markdown",
   "metadata": {},
   "source": [
    "### Load into UTM grid followed by interpolation for missing values\n",
    "\n",
    "See docs for [make_geocube](../geocube.rst#make-geocube)"
   ]
  },
  {
   "cell_type": "code",
   "execution_count": 8,
   "metadata": {},
   "outputs": [
    {
     "name": "stderr",
     "output_type": "stream",
     "text": [
      "/home/snowal/miniconda/envs/geocube/lib/python3.6/site-packages/xarray/core/variable.py:151: FutureWarning: Converting timezone-aware DatetimeArray to timezone-naive ndarray with 'datetime64[ns]' dtype. In the future, this will return an ndarray with 'object' dtype where each element is a 'pandas.Timestamp' with the correct 'tz'.\n",
      "\tTo accept the future behavior, pass 'dtype=object'.\n",
      "\tTo keep the old behavior, pass 'dtype=\"datetime64[ns]\"'.\n",
      "  return np.asarray(pd.Series(values.ravel())).reshape(values.shape)\n"
     ]
    }
   ],
   "source": [
    "geo_grid_interp = make_geocube(\n",
    "    vector_data=gdf,\n",
    "    measurements=['test_attr', \"test_time_attr\"],\n",
    "    datetime_measurements=[\"test_time_attr\"],\n",
    "    resolution=(-0.1, 0.00001),\n",
    "    group_by=\"test_time_attr\",\n",
    "    interpolate_na_method='nearest'\n",
    ")"
   ]
  },
  {
   "cell_type": "code",
   "execution_count": 9,
   "metadata": {},
   "outputs": [
    {
     "data": {
      "text/plain": [
       "<xarray.Dataset>\n",
       "Dimensions:         (test_time_attr: 2, x: 12, y: 11)\n",
       "Coordinates:\n",
       "  * y               (y) float64 45.25 45.15 45.05 44.95 ... 44.45 44.35 44.25\n",
       "  * x               (x) float64 -47.27 -47.27 -47.27 ... -47.27 -47.27 -47.27\n",
       "  * test_time_attr  (test_time_attr) datetime64[ns] 2016-05-21T15:09:21 2016-05-22T15:09:22\n",
       "    spatial_ref     int64 0\n",
       "Data variables:\n",
       "    test_attr       (test_time_attr, y, x) float64 1.3 1.3 1.3 ... 1.3 1.3 1.3\n",
       "Attributes:\n",
       "    grid_mapping:   spatial_ref\n",
       "    creation_date:  2019-12-12 19:57:17.046150"
      ]
     },
     "execution_count": 9,
     "metadata": {},
     "output_type": "execute_result"
    }
   ],
   "source": [
    "geo_grid_interp"
   ]
  },
  {
   "cell_type": "code",
   "execution_count": 10,
   "metadata": {},
   "outputs": [
    {
     "data": {
      "text/plain": [
       "<matplotlib.collections.QuadMesh at 0x7f2f191bc0f0>"
      ]
     },
     "execution_count": 10,
     "metadata": {},
     "output_type": "execute_result"
    },
    {
     "data": {
      "image/png": "[encoded data removed]",
      "text/plain": [
       "<Figure size 432x288 with 2 Axes>"
      ]
     },
     "metadata": {
      "needs_background": "light"
     },
     "output_type": "display_data"
    }
   ],
   "source": [
    "geo_grid_interp.test_attr.isel(test_time_attr=0).plot()"
   ]
  }
 ],
 "metadata": {
  "kernelspec": {
   "display_name": "Python 3",
   "language": "python",
   "name": "python3"
  },
  "language_info": {
   "codemirror_mode": {
    "name": "ipython",
    "version": 3
   },
   "file_extension": ".py",
   "mimetype": "text/x-python",
   "name": "python",
   "nbconvert_exporter": "python",
   "pygments_lexer": "ipython3",
   "version": "3.6.10"
  }
 },
 "nbformat": 4,
 "nbformat_minor": 4
}
