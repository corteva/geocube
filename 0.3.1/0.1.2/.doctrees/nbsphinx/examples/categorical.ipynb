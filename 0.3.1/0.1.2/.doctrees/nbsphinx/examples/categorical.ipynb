{
 "cells": [
  {
   "cell_type": "markdown",
   "metadata": {},
   "source": [
    "# Example - Categorical Data"
   ]
  },
  {
   "cell_type": "code",
   "execution_count": 1,
   "metadata": {},
   "outputs": [],
   "source": [
    "import geopandas as gpd\n",
    "import pandas\n",
    "\n",
    "from geocube.api.core import make_geocube\n",
    "\n",
    "%matplotlib inline"
   ]
  },
  {
   "cell_type": "markdown",
   "metadata": {},
   "source": [
    "## Load in soil data"
   ]
  },
  {
   "cell_type": "code",
   "execution_count": 2,
   "metadata": {},
   "outputs": [],
   "source": [
    "ssurgo_data = gpd.read_file(\"../../test/test_data/input/soil_data_group.geojson\")"
   ]
  },
  {
   "cell_type": "code",
   "execution_count": 3,
   "metadata": {},
   "outputs": [
    {
     "data": {
      "text/plain": [
       "<matplotlib.axes._subplots.AxesSubplot at 0x7f9e210d3be0>"
      ]
     },
     "execution_count": 3,
     "metadata": {},
     "output_type": "execute_result"
    },
    {
     "data": {
      "image/png": "[encoded data removed]",
      "text/plain": [
       "<Figure size 432x288 with 1 Axes>"
      ]
     },
     "metadata": {
      "needs_background": "light"
     },
     "output_type": "display_data"
    }
   ],
   "source": [
    "# original data\n",
    "ssurgo_data[ssurgo_data.hzdept_r==15].plot(column='sandtotal_r')"
   ]
  },
  {
   "cell_type": "markdown",
   "metadata": {},
   "source": [
    "## Generate categories for categorical data"
   ]
  },
  {
   "cell_type": "markdown",
   "metadata": {},
   "source": [
    "If your data is only a subset of all of the data, the list of categories you get will likely not be complete.\n",
    "\n",
    "NOTE: The categories will be made unique and sorted internally if they are not already."
   ]
  },
  {
   "cell_type": "code",
   "execution_count": 4,
   "metadata": {},
   "outputs": [
    {
     "data": {
      "text/plain": [
       "['Somewhat poorly drained',\n",
       " 'Poorly drained',\n",
       " 'Well drained',\n",
       " 'Excessively drained']"
      ]
     },
     "execution_count": 4,
     "metadata": {},
     "output_type": "execute_result"
    }
   ],
   "source": [
    "# this is only a subset of all of the classes\n",
    "ssurgo_data.drclassdcd.drop_duplicates().values.tolist()"
   ]
  },
  {
   "cell_type": "code",
   "execution_count": 5,
   "metadata": {},
   "outputs": [],
   "source": [
    "# complete list of categories\n",
    "drclasses_complete = [\n",
    "    'Poorly drained',\n",
    "    'Somewhat poorly drained',\n",
    "    'Excessively drained',\n",
    "    'Subaqueous',\n",
    "    'Well drained',\n",
    "    'Somewhat excessively drained',\n",
    "    'Very poorly drained',\n",
    "    'Moderately well drained'\n",
    "]"
   ]
  },
  {
   "cell_type": "code",
   "execution_count": 6,
   "metadata": {},
   "outputs": [],
   "source": [
    "categorical_enums = {'drclassdcd': drclasses_complete}"
   ]
  },
  {
   "cell_type": "markdown",
   "metadata": {},
   "source": [
    "## Convert data to grid\n",
    "\n",
    "See docs for [make_geocube](../geocube.rst#make-geocube)"
   ]
  },
  {
   "cell_type": "code",
   "execution_count": 7,
   "metadata": {},
   "outputs": [],
   "source": [
    "out_grid = make_geocube(\n",
    "    vector_data=ssurgo_data,\n",
    "    output_crs=\"epsg:32615\",\n",
    "    group_by='hzdept_r',\n",
    "    resolution=(-100, 100),\n",
    "    categorical_enums=categorical_enums\n",
    ")"
   ]
  },
  {
   "cell_type": "code",
   "execution_count": 8,
   "metadata": {},
   "outputs": [
    {
     "data": {
      "text/html": [
       "<pre>&lt;xarray.Dataset&gt;\n",
       "Dimensions:                (drclassdcd_categories: 9, hzdept_r: 11, x: 15, y: 19)\n",
       "Coordinates:\n",
       "  * y                      (y) float64 4.597e+06 4.597e+06 ... 4.595e+06\n",
       "  * x                      (x) float64 7.004e+05 7.004e+05 ... 7.018e+05\n",
       "  * hzdept_r               (hzdept_r) float64 0.0 5.0 15.0 ... 105.0 120.0 150.0\n",
       "  * drclassdcd_categories  (drclassdcd_categories) object &#x27;Excessively drained&#x27; ... &#x27;nodata&#x27;\n",
       "    spatial_ref            int64 0\n",
       "Data variables:\n",
       "    drclassdcd             (hzdept_r, y, x) float64 -1.0 -1.0 -1.0 ... 7.0 7.0\n",
       "    hzdepb_r               (hzdept_r, y, x) float64 nan nan nan ... 180.0 180.0\n",
       "    claytotal_r            (hzdept_r, y, x) float64 nan nan nan ... 21.0 21.0\n",
       "    sandtotal_r            (hzdept_r, y, x) float64 nan nan nan ... 10.0 10.0\n",
       "    silttotal_r            (hzdept_r, y, x) float64 nan nan nan ... 69.0 69.0\n",
       "Attributes:\n",
       "    grid_mapping:  spatial_ref</pre>"
      ],
      "text/plain": [
       "<xarray.Dataset>\n",
       "Dimensions:                (drclassdcd_categories: 9, hzdept_r: 11, x: 15, y: 19)\n",
       "Coordinates:\n",
       "  * y                      (y) float64 4.597e+06 4.597e+06 ... 4.595e+06\n",
       "  * x                      (x) float64 7.004e+05 7.004e+05 ... 7.018e+05\n",
       "  * hzdept_r               (hzdept_r) float64 0.0 5.0 15.0 ... 105.0 120.0 150.0\n",
       "  * drclassdcd_categories  (drclassdcd_categories) object 'Excessively drained' ... 'nodata'\n",
       "    spatial_ref            int64 0\n",
       "Data variables:\n",
       "    drclassdcd             (hzdept_r, y, x) float64 -1.0 -1.0 -1.0 ... 7.0 7.0\n",
       "    hzdepb_r               (hzdept_r, y, x) float64 nan nan nan ... 180.0 180.0\n",
       "    claytotal_r            (hzdept_r, y, x) float64 nan nan nan ... 21.0 21.0\n",
       "    sandtotal_r            (hzdept_r, y, x) float64 nan nan nan ... 10.0 10.0\n",
       "    silttotal_r            (hzdept_r, y, x) float64 nan nan nan ... 69.0 69.0\n",
       "Attributes:\n",
       "    grid_mapping:  spatial_ref"
      ]
     },
     "execution_count": 8,
     "metadata": {},
     "output_type": "execute_result"
    }
   ],
   "source": [
    "out_grid"
   ]
  },
  {
   "cell_type": "code",
   "execution_count": 9,
   "metadata": {},
   "outputs": [
    {
     "data": {
      "text/plain": [
       "<matplotlib.collections.QuadMesh at 0x7f9e1e823748>"
      ]
     },
     "execution_count": 9,
     "metadata": {},
     "output_type": "execute_result"
    },
    {
     "data": {
      "image/png": "[encoded data removed]",
      "text/plain": [
       "<Figure size 432x288 with 2 Axes>"
      ]
     },
     "metadata": {
      "needs_background": "light"
     },
     "output_type": "display_data"
    }
   ],
   "source": [
    "# mask nodata and plot\n",
    "clay_slice = out_grid.claytotal_r.sel(hzdept_r=15)\n",
    "clay_slice.where(clay_slice!=out_grid.claytotal_r.rio.nodata).plot()"
   ]
  },
  {
   "cell_type": "markdown",
   "metadata": {},
   "source": [
    "## Dealing with categorical data"
   ]
  },
  {
   "cell_type": "markdown",
   "metadata": {},
   "source": [
    "Because the data needs to be numerical for conversion from vector to raster, the code displays the categories as numbers. To convert back to strings, you will need to use the categories provided to convert back."
   ]
  },
  {
   "cell_type": "code",
   "execution_count": 10,
   "metadata": {},
   "outputs": [
    {
     "data": {
      "text/plain": [
       "<matplotlib.collections.QuadMesh at 0x7f9e1e76bc50>"
      ]
     },
     "execution_count": 10,
     "metadata": {},
     "output_type": "execute_result"
    },
    {
     "data": {
      "image/png": "[encoded data removed]",
      "text/plain": [
       "<Figure size 432x288 with 2 Axes>"
      ]
     },
     "metadata": {
      "needs_background": "light"
     },
     "output_type": "display_data"
    }
   ],
   "source": [
    "drclassdcd_slice = out_grid.drclassdcd.sel(hzdept_r=15)\n",
    "drclassdcd_slice.where(drclassdcd_slice!=out_grid.drclassdcd.rio.nodata).plot()"
   ]
  },
  {
   "cell_type": "code",
   "execution_count": 11,
   "metadata": {},
   "outputs": [],
   "source": [
    "drclassdcd_string = out_grid['drclassdcd_categories'][out_grid['drclassdcd'].astype(int)]\\\n",
    "    .drop('drclassdcd_categories')"
   ]
  },
  {
   "cell_type": "code",
   "execution_count": 12,
   "metadata": {},
   "outputs": [
    {
     "data": {
      "text/html": [
       "<pre>&lt;xarray.Dataset&gt;\n",
       "Dimensions:                (drclassdcd_categories: 9, hzdept_r: 11, x: 15, y: 19)\n",
       "Coordinates:\n",
       "  * y                      (y) float64 4.597e+06 4.597e+06 ... 4.595e+06\n",
       "  * x                      (x) float64 7.004e+05 7.004e+05 ... 7.018e+05\n",
       "  * hzdept_r               (hzdept_r) float64 0.0 5.0 15.0 ... 105.0 120.0 150.0\n",
       "  * drclassdcd_categories  (drclassdcd_categories) object &#x27;Excessively drained&#x27; ... &#x27;nodata&#x27;\n",
       "    spatial_ref            int64 0\n",
       "Data variables:\n",
       "    drclassdcd             (hzdept_r, y, x) object &#x27;nodata&#x27; ... &#x27;Well drained&#x27;\n",
       "    hzdepb_r               (hzdept_r, y, x) float64 nan nan nan ... 180.0 180.0\n",
       "    claytotal_r            (hzdept_r, y, x) float64 nan nan nan ... 21.0 21.0\n",
       "    sandtotal_r            (hzdept_r, y, x) float64 nan nan nan ... 10.0 10.0\n",
       "    silttotal_r            (hzdept_r, y, x) float64 nan nan nan ... 69.0 69.0\n",
       "Attributes:\n",
       "    grid_mapping:  spatial_ref</pre>"
      ],
      "text/plain": [
       "<xarray.Dataset>\n",
       "Dimensions:                (drclassdcd_categories: 9, hzdept_r: 11, x: 15, y: 19)\n",
       "Coordinates:\n",
       "  * y                      (y) float64 4.597e+06 4.597e+06 ... 4.595e+06\n",
       "  * x                      (x) float64 7.004e+05 7.004e+05 ... 7.018e+05\n",
       "  * hzdept_r               (hzdept_r) float64 0.0 5.0 15.0 ... 105.0 120.0 150.0\n",
       "  * drclassdcd_categories  (drclassdcd_categories) object 'Excessively drained' ... 'nodata'\n",
       "    spatial_ref            int64 0\n",
       "Data variables:\n",
       "    drclassdcd             (hzdept_r, y, x) object 'nodata' ... 'Well drained'\n",
       "    hzdepb_r               (hzdept_r, y, x) float64 nan nan nan ... 180.0 180.0\n",
       "    claytotal_r            (hzdept_r, y, x) float64 nan nan nan ... 21.0 21.0\n",
       "    sandtotal_r            (hzdept_r, y, x) float64 nan nan nan ... 10.0 10.0\n",
       "    silttotal_r            (hzdept_r, y, x) float64 nan nan nan ... 69.0 69.0\n",
       "Attributes:\n",
       "    grid_mapping:  spatial_ref"
      ]
     },
     "execution_count": 12,
     "metadata": {},
     "output_type": "execute_result"
    }
   ],
   "source": [
    "out_grid['drclassdcd'] = drclassdcd_string\n",
    "out_grid"
   ]
  },
  {
   "cell_type": "code",
   "execution_count": 13,
   "metadata": {},
   "outputs": [
    {
     "data": {
      "text/html": [
       "<div>\n",
       "<style scoped>\n",
       "    .dataframe tbody tr th:only-of-type {\n",
       "        vertical-align: middle;\n",
       "    }\n",
       "\n",
       "    .dataframe tbody tr th {\n",
       "        vertical-align: top;\n",
       "    }\n",
       "\n",
       "    .dataframe thead th {\n",
       "        text-align: right;\n",
       "    }\n",
       "</style>\n",
       "<table border=\"1\" class=\"dataframe\">\n",
       "  <thead>\n",
       "    <tr style=\"text-align: right;\">\n",
       "      <th></th>\n",
       "      <th></th>\n",
       "      <th></th>\n",
       "      <th>drclassdcd</th>\n",
       "      <th>hzdepb_r</th>\n",
       "      <th>claytotal_r</th>\n",
       "      <th>sandtotal_r</th>\n",
       "      <th>silttotal_r</th>\n",
       "    </tr>\n",
       "    <tr>\n",
       "      <th>hzdept_r</th>\n",
       "      <th>x</th>\n",
       "      <th>y</th>\n",
       "      <th></th>\n",
       "      <th></th>\n",
       "      <th></th>\n",
       "      <th></th>\n",
       "      <th></th>\n",
       "    </tr>\n",
       "  </thead>\n",
       "  <tbody>\n",
       "    <tr>\n",
       "      <th rowspan=\"5\" valign=\"top\">0.0</th>\n",
       "      <th rowspan=\"5\" valign=\"top\">700350.0</th>\n",
       "      <th>4597050.0</th>\n",
       "      <td>nodata</td>\n",
       "      <td>NaN</td>\n",
       "      <td>NaN</td>\n",
       "      <td>NaN</td>\n",
       "      <td>NaN</td>\n",
       "    </tr>\n",
       "    <tr>\n",
       "      <th>4596950.0</th>\n",
       "      <td>Well drained</td>\n",
       "      <td>5.0</td>\n",
       "      <td>26.0</td>\n",
       "      <td>38.0</td>\n",
       "      <td>36.0</td>\n",
       "    </tr>\n",
       "    <tr>\n",
       "      <th>4596850.0</th>\n",
       "      <td>Well drained</td>\n",
       "      <td>5.0</td>\n",
       "      <td>26.0</td>\n",
       "      <td>38.0</td>\n",
       "      <td>36.0</td>\n",
       "    </tr>\n",
       "    <tr>\n",
       "      <th>4596750.0</th>\n",
       "      <td>Well drained</td>\n",
       "      <td>5.0</td>\n",
       "      <td>26.0</td>\n",
       "      <td>38.0</td>\n",
       "      <td>36.0</td>\n",
       "    </tr>\n",
       "    <tr>\n",
       "      <th>4596650.0</th>\n",
       "      <td>Well drained</td>\n",
       "      <td>5.0</td>\n",
       "      <td>26.0</td>\n",
       "      <td>38.0</td>\n",
       "      <td>36.0</td>\n",
       "    </tr>\n",
       "  </tbody>\n",
       "</table>\n",
       "</div>"
      ],
      "text/plain": [
       "                               drclassdcd  hzdepb_r  claytotal_r  sandtotal_r  \\\n",
       "hzdept_r x        y                                                             \n",
       "0.0      700350.0 4597050.0        nodata       NaN          NaN          NaN   \n",
       "                  4596950.0  Well drained       5.0         26.0         38.0   \n",
       "                  4596850.0  Well drained       5.0         26.0         38.0   \n",
       "                  4596750.0  Well drained       5.0         26.0         38.0   \n",
       "                  4596650.0  Well drained       5.0         26.0         38.0   \n",
       "\n",
       "                             silttotal_r  \n",
       "hzdept_r x        y                       \n",
       "0.0      700350.0 4597050.0          NaN  \n",
       "                  4596950.0         36.0  \n",
       "                  4596850.0         36.0  \n",
       "                  4596750.0         36.0  \n",
       "                  4596650.0         36.0  "
      ]
     },
     "execution_count": 13,
     "metadata": {},
     "output_type": "execute_result"
    }
   ],
   "source": [
    "pdf = out_grid.drop(['spatial_ref', 'drclassdcd_categories']).to_dataframe()\n",
    "pdf.head()"
   ]
  },
  {
   "cell_type": "markdown",
   "metadata": {},
   "source": [
    "### Make sure all categories are represented\n",
    "\n",
    "To do this, convert the column type to categorical beforehand and make sure that\n",
    "you include all of the possible categories."
   ]
  },
  {
   "cell_type": "code",
   "execution_count": 14,
   "metadata": {},
   "outputs": [],
   "source": [
    "cat_dtype = pandas.api.types.CategoricalDtype(out_grid.drclassdcd_categories.values)\n",
    "pdf['drclassdcd'] = pdf['drclassdcd'].astype(cat_dtype)"
   ]
  },
  {
   "cell_type": "code",
   "execution_count": 15,
   "metadata": {},
   "outputs": [
    {
     "data": {
      "text/html": [
       "<div>\n",
       "<style scoped>\n",
       "    .dataframe tbody tr th:only-of-type {\n",
       "        vertical-align: middle;\n",
       "    }\n",
       "\n",
       "    .dataframe tbody tr th {\n",
       "        vertical-align: top;\n",
       "    }\n",
       "\n",
       "    .dataframe thead th {\n",
       "        text-align: right;\n",
       "    }\n",
       "</style>\n",
       "<table border=\"1\" class=\"dataframe\">\n",
       "  <thead>\n",
       "    <tr style=\"text-align: right;\">\n",
       "      <th></th>\n",
       "      <th></th>\n",
       "      <th></th>\n",
       "      <th>hzdepb_r</th>\n",
       "      <th>claytotal_r</th>\n",
       "      <th>sandtotal_r</th>\n",
       "      <th>silttotal_r</th>\n",
       "      <th>drclassdcd_Excessively drained</th>\n",
       "      <th>drclassdcd_Moderately well drained</th>\n",
       "      <th>drclassdcd_Poorly drained</th>\n",
       "      <th>drclassdcd_Somewhat excessively drained</th>\n",
       "      <th>drclassdcd_Somewhat poorly drained</th>\n",
       "      <th>drclassdcd_Subaqueous</th>\n",
       "      <th>drclassdcd_Very poorly drained</th>\n",
       "      <th>drclassdcd_Well drained</th>\n",
       "      <th>drclassdcd_nodata</th>\n",
       "    </tr>\n",
       "    <tr>\n",
       "      <th>hzdept_r</th>\n",
       "      <th>x</th>\n",
       "      <th>y</th>\n",
       "      <th></th>\n",
       "      <th></th>\n",
       "      <th></th>\n",
       "      <th></th>\n",
       "      <th></th>\n",
       "      <th></th>\n",
       "      <th></th>\n",
       "      <th></th>\n",
       "      <th></th>\n",
       "      <th></th>\n",
       "      <th></th>\n",
       "      <th></th>\n",
       "      <th></th>\n",
       "    </tr>\n",
       "  </thead>\n",
       "  <tbody>\n",
       "    <tr>\n",
       "      <th rowspan=\"5\" valign=\"top\">0.0</th>\n",
       "      <th rowspan=\"5\" valign=\"top\">700350.0</th>\n",
       "      <th>4597050.0</th>\n",
       "      <td>NaN</td>\n",
       "      <td>NaN</td>\n",
       "      <td>NaN</td>\n",
       "      <td>NaN</td>\n",
       "      <td>0</td>\n",
       "      <td>0</td>\n",
       "      <td>0</td>\n",
       "      <td>0</td>\n",
       "      <td>0</td>\n",
       "      <td>0</td>\n",
       "      <td>0</td>\n",
       "      <td>0</td>\n",
       "      <td>1</td>\n",
       "    </tr>\n",
       "    <tr>\n",
       "      <th>4596950.0</th>\n",
       "      <td>5.0</td>\n",
       "      <td>26.0</td>\n",
       "      <td>38.0</td>\n",
       "      <td>36.0</td>\n",
       "      <td>0</td>\n",
       "      <td>0</td>\n",
       "      <td>0</td>\n",
       "      <td>0</td>\n",
       "      <td>0</td>\n",
       "      <td>0</td>\n",
       "      <td>0</td>\n",
       "      <td>1</td>\n",
       "      <td>0</td>\n",
       "    </tr>\n",
       "    <tr>\n",
       "      <th>4596850.0</th>\n",
       "      <td>5.0</td>\n",
       "      <td>26.0</td>\n",
       "      <td>38.0</td>\n",
       "      <td>36.0</td>\n",
       "      <td>0</td>\n",
       "      <td>0</td>\n",
       "      <td>0</td>\n",
       "      <td>0</td>\n",
       "      <td>0</td>\n",
       "      <td>0</td>\n",
       "      <td>0</td>\n",
       "      <td>1</td>\n",
       "      <td>0</td>\n",
       "    </tr>\n",
       "    <tr>\n",
       "      <th>4596750.0</th>\n",
       "      <td>5.0</td>\n",
       "      <td>26.0</td>\n",
       "      <td>38.0</td>\n",
       "      <td>36.0</td>\n",
       "      <td>0</td>\n",
       "      <td>0</td>\n",
       "      <td>0</td>\n",
       "      <td>0</td>\n",
       "      <td>0</td>\n",
       "      <td>0</td>\n",
       "      <td>0</td>\n",
       "      <td>1</td>\n",
       "      <td>0</td>\n",
       "    </tr>\n",
       "    <tr>\n",
       "      <th>4596650.0</th>\n",
       "      <td>5.0</td>\n",
       "      <td>26.0</td>\n",
       "      <td>38.0</td>\n",
       "      <td>36.0</td>\n",
       "      <td>0</td>\n",
       "      <td>0</td>\n",
       "      <td>0</td>\n",
       "      <td>0</td>\n",
       "      <td>0</td>\n",
       "      <td>0</td>\n",
       "      <td>0</td>\n",
       "      <td>1</td>\n",
       "      <td>0</td>\n",
       "    </tr>\n",
       "  </tbody>\n",
       "</table>\n",
       "</div>"
      ],
      "text/plain": [
       "                             hzdepb_r  claytotal_r  sandtotal_r  silttotal_r  \\\n",
       "hzdept_r x        y                                                            \n",
       "0.0      700350.0 4597050.0       NaN          NaN          NaN          NaN   \n",
       "                  4596950.0       5.0         26.0         38.0         36.0   \n",
       "                  4596850.0       5.0         26.0         38.0         36.0   \n",
       "                  4596750.0       5.0         26.0         38.0         36.0   \n",
       "                  4596650.0       5.0         26.0         38.0         36.0   \n",
       "\n",
       "                             drclassdcd_Excessively drained  \\\n",
       "hzdept_r x        y                                           \n",
       "0.0      700350.0 4597050.0                               0   \n",
       "                  4596950.0                               0   \n",
       "                  4596850.0                               0   \n",
       "                  4596750.0                               0   \n",
       "                  4596650.0                               0   \n",
       "\n",
       "                             drclassdcd_Moderately well drained  \\\n",
       "hzdept_r x        y                                               \n",
       "0.0      700350.0 4597050.0                                   0   \n",
       "                  4596950.0                                   0   \n",
       "                  4596850.0                                   0   \n",
       "                  4596750.0                                   0   \n",
       "                  4596650.0                                   0   \n",
       "\n",
       "                             drclassdcd_Poorly drained  \\\n",
       "hzdept_r x        y                                      \n",
       "0.0      700350.0 4597050.0                          0   \n",
       "                  4596950.0                          0   \n",
       "                  4596850.0                          0   \n",
       "                  4596750.0                          0   \n",
       "                  4596650.0                          0   \n",
       "\n",
       "                             drclassdcd_Somewhat excessively drained  \\\n",
       "hzdept_r x        y                                                    \n",
       "0.0      700350.0 4597050.0                                        0   \n",
       "                  4596950.0                                        0   \n",
       "                  4596850.0                                        0   \n",
       "                  4596750.0                                        0   \n",
       "                  4596650.0                                        0   \n",
       "\n",
       "                             drclassdcd_Somewhat poorly drained  \\\n",
       "hzdept_r x        y                                               \n",
       "0.0      700350.0 4597050.0                                   0   \n",
       "                  4596950.0                                   0   \n",
       "                  4596850.0                                   0   \n",
       "                  4596750.0                                   0   \n",
       "                  4596650.0                                   0   \n",
       "\n",
       "                             drclassdcd_Subaqueous  \\\n",
       "hzdept_r x        y                                  \n",
       "0.0      700350.0 4597050.0                      0   \n",
       "                  4596950.0                      0   \n",
       "                  4596850.0                      0   \n",
       "                  4596750.0                      0   \n",
       "                  4596650.0                      0   \n",
       "\n",
       "                             drclassdcd_Very poorly drained  \\\n",
       "hzdept_r x        y                                           \n",
       "0.0      700350.0 4597050.0                               0   \n",
       "                  4596950.0                               0   \n",
       "                  4596850.0                               0   \n",
       "                  4596750.0                               0   \n",
       "                  4596650.0                               0   \n",
       "\n",
       "                             drclassdcd_Well drained  drclassdcd_nodata  \n",
       "hzdept_r x        y                                                      \n",
       "0.0      700350.0 4597050.0                        0                  1  \n",
       "                  4596950.0                        1                  0  \n",
       "                  4596850.0                        1                  0  \n",
       "                  4596750.0                        1                  0  \n",
       "                  4596650.0                        1                  0  "
      ]
     },
     "execution_count": 15,
     "metadata": {},
     "output_type": "execute_result"
    }
   ],
   "source": [
    "training_df = pandas.get_dummies(pdf, columns=['drclassdcd'])\n",
    "training_df.head()"
   ]
  },
  {
   "cell_type": "code",
   "execution_count": 16,
   "metadata": {},
   "outputs": [
    {
     "data": {
      "text/plain": [
       "Index(['hzdepb_r', 'claytotal_r', 'sandtotal_r', 'silttotal_r',\n",
       "       'drclassdcd_Excessively drained', 'drclassdcd_Moderately well drained',\n",
       "       'drclassdcd_Poorly drained', 'drclassdcd_Somewhat excessively drained',\n",
       "       'drclassdcd_Somewhat poorly drained', 'drclassdcd_Subaqueous',\n",
       "       'drclassdcd_Very poorly drained', 'drclassdcd_Well drained',\n",
       "       'drclassdcd_nodata'],\n",
       "      dtype='object')"
      ]
     },
     "execution_count": 16,
     "metadata": {},
     "output_type": "execute_result"
    }
   ],
   "source": [
    "training_df.columns"
   ]
  }
 ],
 "metadata": {
  "kernelspec": {
   "display_name": "Python 3",
   "language": "python",
   "name": "python3"
  },
  "language_info": {
   "codemirror_mode": {
    "name": "ipython",
    "version": 3
   },
   "file_extension": ".py",
   "mimetype": "text/x-python",
   "name": "python",
   "nbconvert_exporter": "python",
   "pygments_lexer": "ipython3",
   "version": "3.6.10"
  }
 },
 "nbformat": 4,
 "nbformat_minor": 4
}
